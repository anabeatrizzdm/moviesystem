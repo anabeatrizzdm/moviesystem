{
  "nbformat": 4,
  "nbformat_minor": 0,
  "metadata": {
    "colab": {
      "provenance": [],
      "authorship_tag": "ABX9TyOarjsuKt5bCixulPyoIkwO",
      "include_colab_link": true
    },
    "kernelspec": {
      "name": "python3",
      "display_name": "Python 3"
    },
    "language_info": {
      "name": "python"
    }
  },
  "cells": [
    {
      "cell_type": "markdown",
      "metadata": {
        "id": "view-in-github",
        "colab_type": "text"
      },
      "source": [
        "<a href=\"https://colab.research.google.com/github/anabeatrizzdm/moviesystem/blob/main/moviesystem.ipynb\" target=\"_parent\"><img src=\"https://colab.research.google.com/assets/colab-badge.svg\" alt=\"Open In Colab\"/></a>"
      ]
    },
    {
      "cell_type": "code",
      "execution_count": null,
      "metadata": {
        "id": "hPRSfIITD_Mb"
      },
      "outputs": [],
      "source": [
        "import pandas as pd\n",
        "import numpy as np"
      ]
    },
    {
      "cell_type": "code",
      "source": [
        "from google.colab import drive\n",
        "drive.mount('/content/drive', force_remount=True)"
      ],
      "metadata": {
        "colab": {
          "base_uri": "https://localhost:8080/"
        },
        "id": "fFffjQaOK66n",
        "outputId": "46da1378-d547-4a14-c30e-9bb8b5fe95d1"
      },
      "execution_count": null,
      "outputs": [
        {
          "output_type": "stream",
          "name": "stdout",
          "text": [
            "Mounted at /content/drive\n"
          ]
        }
      ]
    },
    {
      "cell_type": "code",
      "source": [
        "caminho_csv1 = '/content/drive/My Drive/moviesystem/movies.csv'"
      ],
      "metadata": {
        "id": "DALJ74WULEm7"
      },
      "execution_count": null,
      "outputs": []
    },
    {
      "cell_type": "code",
      "source": [
        "caminho_csv2 = '/content/drive/My Drive/moviesystem/credits.csv'"
      ],
      "metadata": {
        "id": "G-7Kz445MItt"
      },
      "execution_count": null,
      "outputs": []
    },
    {
      "cell_type": "code",
      "source": [
        "credits = pd.read_csv(caminho_csv2)"
      ],
      "metadata": {
        "id": "psf0xV1fLhSP"
      },
      "execution_count": null,
      "outputs": []
    },
    {
      "cell_type": "code",
      "source": [
        "movies = pd.read_csv(caminho_csv1)"
      ],
      "metadata": {
        "id": "dyA_3P_5LshN"
      },
      "execution_count": null,
      "outputs": []
    },
    {
      "cell_type": "code",
      "source": [
        "print(movies.head())"
      ],
      "metadata": {
        "id": "yaQ3ZUCtPC9l"
      },
      "execution_count": null,
      "outputs": []
    },
    {
      "cell_type": "code",
      "source": [
        "print(credits.head())"
      ],
      "metadata": {
        "id": "7FMPnNWbO9zV"
      },
      "execution_count": null,
      "outputs": []
    },
    {
      "cell_type": "code",
      "source": [
        "print('credits', credits.shape)\n",
        "print('movies', movies.shape)"
      ],
      "metadata": {
        "id": "CZLj2uj-PVaG"
      },
      "execution_count": null,
      "outputs": []
    },
    {
      "cell_type": "code",
      "source": [
        "credits_column_renamed = credits.rename(index=str, columns={\"movie_id\": \"id\"})\n",
        "movies_merged= movies.merge(credits_column_renamed, on=\"id\")\n",
        "movies_merged.head()"
      ],
      "metadata": {
        "id": "bODZ7hpSP5GF"
      },
      "execution_count": null,
      "outputs": []
    },
    {
      "cell_type": "code",
      "source": [
        "movies_cleaned = movies_merged.drop(columns=['title_x', 'vote_count', 'title_y', 'homepage', 'keywords', 'popularity', 'production_companies', 'production_countries', 'release_date', 'revenue', 'runtime', 'spoken_languages', 'status', 'tagline', 'cast', 'crew'])\n",
        "movies_cleaned.head()"
      ],
      "metadata": {
        "id": "h_j17eV9RfEX"
      },
      "execution_count": null,
      "outputs": []
    },
    {
      "cell_type": "code",
      "source": [
        "from sklearn.feature_extraction.text import TfidfVectorizer\n",
        "\n",
        "tfv = TfidfVectorizer(min_df=3, max_features= None,\n",
        "                      strip_accents = 'unicode', analyzer= 'word', token_pattern=r'\\w{1,}',\n",
        "                      ngram_range=(1,3),\n",
        "                      stop_words = 'english' )\n",
        "\n",
        "movies_cleaned['overview']= movies_cleaned['overview'].fillna('')"
      ],
      "metadata": {
        "id": "jPkzgdVuVkx3"
      },
      "execution_count": null,
      "outputs": []
    },
    {
      "cell_type": "code",
      "source": [
        "tfv_matrix = tfv.fit_transform(movies_cleaned['overview'])"
      ],
      "metadata": {
        "id": "Mxw77H6cCb60"
      },
      "execution_count": null,
      "outputs": []
    },
    {
      "cell_type": "code",
      "source": [
        "tfv_matrix"
      ],
      "metadata": {
        "id": "VQ3QT1CqGM_C"
      },
      "execution_count": null,
      "outputs": []
    },
    {
      "cell_type": "code",
      "source": [
        "tfv_matrix.shape"
      ],
      "metadata": {
        "id": "lZvKg7m3GTX6"
      },
      "execution_count": null,
      "outputs": []
    },
    {
      "cell_type": "code",
      "source": [
        "from sklearn.metrics.pairwise import sigmoid_kernel"
      ],
      "metadata": {
        "id": "6_rjDs93HEI2"
      },
      "execution_count": null,
      "outputs": []
    },
    {
      "cell_type": "code",
      "source": [
        "sig = sigmoid_kernel(tfv_matrix,tfv_matrix)"
      ],
      "metadata": {
        "id": "uJNKPEpmHMfb"
      },
      "execution_count": null,
      "outputs": []
    },
    {
      "cell_type": "code",
      "source": [
        "sig[0]"
      ],
      "metadata": {
        "id": "pdFiHxsrHS_r"
      },
      "execution_count": null,
      "outputs": []
    },
    {
      "cell_type": "code",
      "source": [
        "indices= pd.Series(movies_cleaned.index, index=movies_cleaned['original_title']).drop_duplicates()"
      ],
      "metadata": {
        "id": "3jbM0rCwIMpE"
      },
      "execution_count": null,
      "outputs": []
    },
    {
      "cell_type": "code",
      "source": [
        "indices"
      ],
      "metadata": {
        "id": "Lv07cS1vInx1"
      },
      "execution_count": null,
      "outputs": []
    },
    {
      "cell_type": "code",
      "source": [
        "def give_recommendation(title, sig=sig):\n",
        "  idx = indices[title]\n",
        "  sig_scores = list(enumerate(sig[idx]))\n",
        "  sig_scores = sorted(sig_scores, key=lambda x:x[1], reverse=True)\n",
        "  sig_scores = sig_scores[1:8]\n",
        "  movie_indices = [i[0] for i in sig_scores]\n",
        "  return movies_cleaned['original_title'].iloc[movie_indices]"
      ],
      "metadata": {
        "id": "-z3DPFeUIxGs"
      },
      "execution_count": null,
      "outputs": []
    },
    {
      "cell_type": "code",
      "source": [
        "give_recommendation('Creed')"
      ],
      "metadata": {
        "colab": {
          "base_uri": "https://localhost:8080/"
        },
        "id": "PViXXmRbOWgA",
        "outputId": "1315e3c1-d4f7-4c4e-f4c0-e85a45c6e3a1"
      },
      "execution_count": null,
      "outputs": [
        {
          "output_type": "execute_result",
          "data": {
            "text/plain": [
              "4333                                   Rocky\n",
              "1960                            Rocky Balboa\n",
              "2205                              Undisputed\n",
              "2917                             The Fighter\n",
              "503     The Adventures of Rocky & Bullwinkle\n",
              "2273                          Hands of Stone\n",
              "3037         The Goods: Live Hard, Sell Hard\n",
              "Name: original_title, dtype: object"
            ]
          },
          "metadata": {},
          "execution_count": 24
        }
      ]
    }
  ]
}